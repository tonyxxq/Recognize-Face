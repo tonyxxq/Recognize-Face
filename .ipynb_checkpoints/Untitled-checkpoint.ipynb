{
 "cells": [
  {
   "cell_type": "code",
   "execution_count": 6,
   "metadata": {},
   "outputs": [
    {
     "ename": "ImportError",
     "evalue": "No module named 'face_recognition'",
     "output_type": "error",
     "traceback": [
      "\u001b[1;31m---------------------------------------------------------------------------\u001b[0m",
      "\u001b[1;31mImportError\u001b[0m                               Traceback (most recent call last)",
      "\u001b[1;32m<ipython-input-6-f6dec218107d>\u001b[0m in \u001b[0;36m<module>\u001b[1;34m()\u001b[0m\n\u001b[0;32m      1\u001b[0m \u001b[1;32mfrom\u001b[0m \u001b[0mimutils\u001b[0m \u001b[1;32mimport\u001b[0m \u001b[0mpaths\u001b[0m\u001b[1;33m\u001b[0m\u001b[0m\n\u001b[1;32m----> 2\u001b[1;33m \u001b[1;32mimport\u001b[0m \u001b[0mface_recognition\u001b[0m\u001b[1;33m\u001b[0m\u001b[0m\n\u001b[0m\u001b[0;32m      3\u001b[0m \u001b[1;32mimport\u001b[0m \u001b[0margparse\u001b[0m\u001b[1;33m\u001b[0m\u001b[0m\n\u001b[0;32m      4\u001b[0m \u001b[1;32mimport\u001b[0m \u001b[0mpickle\u001b[0m\u001b[1;33m\u001b[0m\u001b[0m\n\u001b[0;32m      5\u001b[0m \u001b[1;32mimport\u001b[0m \u001b[0mcv2\u001b[0m\u001b[1;33m\u001b[0m\u001b[0m\n",
      "\u001b[1;31mImportError\u001b[0m: No module named 'face_recognition'"
     ]
    }
   ],
   "source": [
    "from imutils import paths\n",
    "import face_recognition\n",
    "import argparse\n",
    "import pickle\n",
    "import cv2\n",
    "import os\n",
    "\n",
    "# 对指定路径下的图像人脸进行编码，并存入到磁盘\n",
    "\n",
    "\n",
    "\n",
    "#　--dataset：  数据集的路径（利用search_bing_api.py创建的数据集）；\n",
    "#　--encodings：面部编码将被写到该参数所指的文件中；\n",
    "#　--detection-method：首先需要检测到图像中的面部，才能对其进行编码。两种面部检测方法为hog或cnn，因此该参数只接受这两个值\n",
    "# ap = argparse.ArgumentParser()\n",
    "# ap.add_argument(\"-i\", \"--dataset\", required=True, help=\"path to input directory of faces + images\")\n",
    "# ap.add_argument(\"-e\", \"--encodings\", required=True, help=\"path to serialized db of facial encodings\")\n",
    "# ap.add_argument(\"-d\", \"--detection-method\", type=str, default=\"cnn\", help=\"face detection model to use: either `hog` or `cnn`\")\n",
    "# args = vars(ap.parse_args())\n",
    "\n",
    "args = {}\n",
    "args['dataset'] = \"./images\"\n",
    "args['encodings'] = \"./\"\n",
    "args['detection_method'] = \"cnn\"\n",
    "\n",
    "\n",
    "# 获取每一张图像的路径\n",
    "imagePaths = list(paths.list_images(args[\"dataset\"]))\n",
    "\n",
    "# 把每一张图片的名称和编码放到两个数组中\n",
    "knownEncodings = []\n",
    "knownNames = []\n",
    "\n",
    "\n",
    "# OpenCV中的颜色通道排列顺序为BGR，但dlib要求的顺序为RGB。对每一个图像进行编码。\n",
    "for (i, imagePath) in enumerate(imagePaths):\n",
    "    # 从文件的路径中获取图片的名称\n",
    "    name = imagePath.split(os.path.sep)[-2]\n",
    "    \n",
    "    # 从文件的路径中获取图片的名称\n",
    "    image = cv2.imread(imagePath)\n",
    "    rgb = cv2.cvtColor(image, cv2.COLOR_BGR2RGB)\n",
    "     \n",
    "    # 在图片中框出人脸，一幅图像可能有多张人脸\n",
    "    boxes = face_recognition.face_locations(rgb,　model=args[\"detection_method\"])\n",
    "     \n",
    "    # 对图片中框处的每张人脸进行编码\n",
    "    encodings = face_recognition.face_encodings(rgb, boxes)\n",
    "     \n",
    "    # 把编码结果放到数组中\n",
    "    for encoding in encodings:\n",
    "        knownEncodings.append(encoding)\n",
    "        knownNames.append(name)\n",
    "    \n",
    "    # 结果存到磁盘\n",
    "    data = {\"encodings\": knownEncodings, \"names\": knownNames}\n",
    "    f = open(args[\"encodings\"], \"wb\")\n",
    "    f.write(pickle.dumps(data))\n",
    "    f.close()"
   ]
  }
 ],
 "metadata": {
  "kernelspec": {
   "display_name": "python(dlnd)",
   "language": "python",
   "name": "dlnd"
  },
  "language_info": {
   "codemirror_mode": {
    "name": "ipython",
    "version": 3
   },
   "file_extension": ".py",
   "mimetype": "text/x-python",
   "name": "python",
   "nbconvert_exporter": "python",
   "pygments_lexer": "ipython3",
   "version": "3.5.5"
  }
 },
 "nbformat": 4,
 "nbformat_minor": 2
}
